{
 "cells": [
  {
   "cell_type": "code",
   "execution_count": 1,
   "metadata": {},
   "outputs": [],
   "source": [
    "import os\n",
    "import numpy as np\n",
    "# from PIL import Image\n",
    "import torch\n",
    "import matplotlib.pyplot as plt\n",
    "import pandas as pd\n",
    "\n",
    "from collections import Counter\n",
    "\n",
    "import copy\n",
    "\n",
    "import matplotlib.pyplot as plt\n",
    "import torchvision.transforms as transforms\n",
    "import torchvision.datasets as datasets\n",
    "from torch.utils.data import DataLoader, Dataset, Subset"
   ]
  },
  {
   "cell_type": "code",
   "execution_count": 2,
   "metadata": {},
   "outputs": [],
   "source": [
    "plt.style.use('default')\n",
    "plt.rcParams['figure.figsize'] = [6, 4]\n",
    "plt.rcParams['font.size'] = 12"
   ]
  },
  {
   "cell_type": "code",
   "execution_count": 4,
   "metadata": {},
   "outputs": [
    {
     "data": {
      "text/plain": [
       "True"
      ]
     },
     "execution_count": 4,
     "metadata": {},
     "output_type": "execute_result"
    }
   ],
   "source": [
    "torch.cuda.is_available()"
   ]
  },
  {
   "cell_type": "code",
   "execution_count": null,
   "metadata": {},
   "outputs": [],
   "source": []
  },
  {
   "cell_type": "code",
   "execution_count": 5,
   "metadata": {},
   "outputs": [],
   "source": [
    "def concatenate_tr_by_column(p_all_list):\n",
    "    # First, concatenate the arrays within each tr by column\n",
    "    combined_tr_list = [np.concatenate(tr, axis=1) for tr in p_all_list]\n",
    "\n",
    "    # Now, concatenate all combined tr arrays by column as well\n",
    "    p_all = np.concatenate(combined_tr_list, axis=1)\n",
    "    \n",
    "    return p_all"
   ]
  },
  {
   "cell_type": "code",
   "execution_count": 6,
   "metadata": {},
   "outputs": [],
   "source": [
    "cutoff = 0"
   ]
  },
  {
   "cell_type": "code",
   "execution_count": 12,
   "metadata": {},
   "outputs": [],
   "source": [
    "p_all_list_mix_weighted = torch.load('./result_pred_p_mix_weighted/pred_p_list_all_epoch200.pth')\n",
    "p_all_list_mix_weighted_Mul = torch.load('./result_pred_p_mix_weighted_Mul/pred_p_list_all_epoch200.pth')"
   ]
  },
  {
   "cell_type": "code",
   "execution_count": 13,
   "metadata": {},
   "outputs": [],
   "source": [
    "p_all_list_mix_weighted = p_all_list_mix_weighted[cutoff:]\n",
    "p_all_list_mix_weighted_Mul = p_all_list_mix_weighted_Mul[cutoff:]"
   ]
  },
  {
   "cell_type": "code",
   "execution_count": 14,
   "metadata": {},
   "outputs": [
    {
     "name": "stdout",
     "output_type": "stream",
     "text": [
      "80\n",
      "6\n",
      "(1000, 10)\n"
     ]
    }
   ],
   "source": [
    "print(len(p_all_list_mix_weighted))\n",
    "print(len(p_all_list_mix_weighted[0]))\n",
    "print(p_all_list_mix_weighted[0][0].shape)"
   ]
  },
  {
   "cell_type": "code",
   "execution_count": 15,
   "metadata": {},
   "outputs": [
    {
     "name": "stdout",
     "output_type": "stream",
     "text": [
      "(1000, 4800)\n",
      "(2000, 4800)\n"
     ]
    }
   ],
   "source": [
    "p_all_mix_weighted = concatenate_tr_by_column(p_all_list_mix_weighted)\n",
    "p_all_mix_weighted_Mul = concatenate_tr_by_column(p_all_list_mix_weighted_Mul)\n",
    "print(p_all_mix_weighted.shape)\n",
    "print(p_all_mix_weighted_Mul.shape)"
   ]
  },
  {
   "cell_type": "code",
   "execution_count": 16,
   "metadata": {},
   "outputs": [],
   "source": [
    "equal_weight = np.ones(p_all_mix_weighted.shape[1]//10)\n",
    "equal_weight_Mul = np.ones(p_all_mix_weighted_Mul.shape[1]//10)"
   ]
  },
  {
   "cell_type": "code",
   "execution_count": 11,
   "metadata": {},
   "outputs": [],
   "source": []
  },
  {
   "cell_type": "code",
   "execution_count": 9,
   "metadata": {},
   "outputs": [],
   "source": [
    "# Define the dataset\n",
    "class ProteinDataset(Dataset):\n",
    "    def __init__(self, dataframe, tokenizer):\n",
    "        self.sequences = dataframe['Sequence'].values\n",
    "        self.labels = dataframe['Label'].values\n",
    "        self.tokenizer = tokenizer\n",
    "\n",
    "    def __len__(self):\n",
    "        return len(self.sequences)\n",
    "\n",
    "    def __getitem__(self, idx):\n",
    "        sequence = self.sequences[idx]\n",
    "        label = self.labels[idx]\n",
    "        inputs = self.tokenizer(\n",
    "            sequence,\n",
    "            return_tensors=\"pt\",\n",
    "            padding=\"max_length\",  \n",
    "            truncation=True,       \n",
    "            max_length=1000        \n",
    "        )\n",
    "        return inputs, torch.tensor(label, dtype=torch.long)\n"
   ]
  },
  {
   "cell_type": "code",
   "execution_count": 10,
   "metadata": {},
   "outputs": [],
   "source": [
    "df_test = pd.read_csv(\"./Datasets/deeploc/data_our/data_our_test.csv\")\n",
    "df_test_Mul = pd.read_csv(\"./Datasets/deeploc/data_Mul/data_MuLabel_sub.csv\")"
   ]
  },
  {
   "cell_type": "code",
   "execution_count": 11,
   "metadata": {},
   "outputs": [
    {
     "name": "stdout",
     "output_type": "stream",
     "text": [
      "df_test.shape:  (1000, 16)\n",
      "df_test_Mul.shape:  (2000, 18)\n"
     ]
    }
   ],
   "source": [
    "print(\"df_test.shape: \", df_test.shape)\n",
    "print(\"df_test_Mul.shape: \", df_test_Mul.shape)"
   ]
  },
  {
   "cell_type": "code",
   "execution_count": 12,
   "metadata": {},
   "outputs": [],
   "source": [
    "# get true labels\n",
    "test_labels = df_test['Label']\n",
    "labels = test_labels.tolist()"
   ]
  },
  {
   "cell_type": "code",
   "execution_count": null,
   "metadata": {},
   "outputs": [],
   "source": []
  },
  {
   "cell_type": "markdown",
   "metadata": {},
   "source": [
    "## get MLE acc"
   ]
  },
  {
   "cell_type": "code",
   "execution_count": 24,
   "metadata": {},
   "outputs": [],
   "source": [
    "from scipy.stats import gaussian_kde\n",
    "from functools import partial"
   ]
  },
  {
   "cell_type": "code",
   "execution_count": 25,
   "metadata": {},
   "outputs": [],
   "source": [
    "def weighted_MLE(data, weights):\n",
    "    if len(np.unique(data))==1:\n",
    "        mle = np.unique(data)[0]\n",
    "    else: \n",
    "        # Generate the KDE\n",
    "        kde = gaussian_kde(data, weights=weights)\n",
    "        # Evaluate the KDE on a grid\n",
    "        grid = np.linspace(max(0,min(data)-0.05), min(1,max(data)+0.05), 600)\n",
    "        density = kde(grid)\n",
    "        # MLE:\n",
    "        mle = grid[np.argmax(density)]\n",
    "    \n",
    "    return mle"
   ]
  },
  {
   "cell_type": "code",
   "execution_count": 26,
   "metadata": {},
   "outputs": [],
   "source": [
    "def get_p_MLE(data, weights=equal_weight):\n",
    "    mle_p = []\n",
    "    for i in range(10):\n",
    "        data_p = data[i::10]\n",
    "        mle_p.append(weighted_MLE(data_p, weights))\n",
    "    mle_p = np.array(mle_p)\n",
    "    mle_p = mle_p/mle_p.sum()\n",
    "    return mle_p"
   ]
  },
  {
   "cell_type": "code",
   "execution_count": null,
   "metadata": {},
   "outputs": [],
   "source": []
  },
  {
   "cell_type": "code",
   "execution_count": 27,
   "metadata": {},
   "outputs": [
    {
     "data": {
      "text/plain": [
       "0.622"
      ]
     },
     "execution_count": 27,
     "metadata": {},
     "output_type": "execute_result"
    }
   ],
   "source": [
    "MLE_mix_weighted = np.apply_along_axis(get_p_MLE, 1, p_all_mix_weighted, equal_weight)\n",
    "pred_mix_weighted = np.argmax(MLE_mix_weighted, axis=1)\n",
    "np.mean(pred_mix_weighted==labels)"
   ]
  },
  {
   "cell_type": "code",
   "execution_count": 28,
   "metadata": {},
   "outputs": [],
   "source": [
    "os.makedirs(\"./result_pred_deviance_infer\", exist_ok=True)"
   ]
  },
  {
   "cell_type": "code",
   "execution_count": 29,
   "metadata": {},
   "outputs": [],
   "source": [
    "np.save(\"./result_pred_deviance_infer/MLE_mix_weighted.npy\", MLE_mix_weighted)"
   ]
  },
  {
   "cell_type": "code",
   "execution_count": 25,
   "metadata": {},
   "outputs": [],
   "source": [
    "MLE_mix_weighted = np.load(\"./result_pred_deviance_infer/MLE_mix_weighted.npy\")"
   ]
  },
  {
   "cell_type": "code",
   "execution_count": null,
   "metadata": {},
   "outputs": [],
   "source": []
  },
  {
   "cell_type": "code",
   "execution_count": 30,
   "metadata": {},
   "outputs": [],
   "source": [
    "MLE_mix_weighted_Mul = np.apply_along_axis(get_p_MLE, 1, p_all_mix_weighted_Mul, equal_weight_Mul)\n",
    "pred_mix_weighted_Mul = np.argmax(MLE_mix_weighted_Mul, axis=1)"
   ]
  },
  {
   "cell_type": "code",
   "execution_count": 31,
   "metadata": {},
   "outputs": [],
   "source": [
    "np.save(\"./result_pred_deviance_infer/MLE_mix_weighted_Mul.npy\", MLE_mix_weighted_Mul)"
   ]
  },
  {
   "cell_type": "code",
   "execution_count": null,
   "metadata": {},
   "outputs": [],
   "source": []
  },
  {
   "attachments": {},
   "cell_type": "markdown",
   "metadata": {},
   "source": [
    "## bayesian deviance CI"
   ]
  },
  {
   "cell_type": "code",
   "execution_count": 32,
   "metadata": {},
   "outputs": [],
   "source": [
    "def get_rate_each_image(pi, up, weight, dim=10):\n",
    "    arr_reshaped = pi.reshape(-1, 10)\n",
    "    normalized_arr_reshaped = arr_reshaped / arr_reshaped.sum(axis=1, keepdims=True)\n",
    "    pi = normalized_arr_reshaped.flatten()\n",
    "    \n",
    "    r = 0\n",
    "    for k in range(dim):\n",
    "        p_tmp = pi[k::dim]\n",
    "        r_tmp = p_tmp*np.where( (p_tmp>=up), 1, 0 )\n",
    "        r += r_tmp\n",
    "    rate = np.average(r, weights=weight)\n",
    "    return rate\n",
    "\n",
    "\n",
    "def dichotomy_optimal_up(pi, weight, dim=10, target_rate=0.95, tol=1e-12):\n",
    "    low, high = 0.0, 1.0\n",
    "    \n",
    "    rate_old = 0; mid_old = 0\n",
    "    while high - low > tol:\n",
    "        mid = (low + high) / 2\n",
    "        rate = get_rate_each_image(pi, mid, weight, dim=dim)\n",
    "        \n",
    "        if np.abs(rate-target_rate)>(0.5+np.abs(rate_old-target_rate)):\n",
    "            return mid_old\n",
    "        mid_old = copy.deepcopy(mid)\n",
    "        rate_old = copy.deepcopy(rate)\n",
    "        \n",
    "        if rate > target_rate:\n",
    "            low = mid\n",
    "        else:\n",
    "            high = mid\n",
    "            \n",
    "    return (low + high) / 2\n",
    "\n",
    "\n",
    "def get_CI_rate(predicted_probabilities, weight, dim=10, rate=0.95):\n",
    "    optimal_up_dichotomy = dichotomy_optimal_up(predicted_probabilities, weight=weight, dim=dim, target_rate=rate)\n",
    "    optimal_rate = get_rate_each_image(predicted_probabilities, optimal_up_dichotomy, weight, dim=dim)\n",
    "    \n",
    "    CI_up = -2*np.log(optimal_up_dichotomy)\n",
    "\n",
    "    return CI_up, optimal_rate"
   ]
  },
  {
   "cell_type": "code",
   "execution_count": null,
   "metadata": {},
   "outputs": [],
   "source": []
  },
  {
   "attachments": {},
   "cell_type": "markdown",
   "metadata": {},
   "source": [
    "### mean of deviance:\n",
    "Do not use the built condidence band to measure the uncertainty of the predions (as this will lead to problems). We calculate the deviance of each image, and use the mean of the deviance as the measure of prediction uncertainty."
   ]
  },
  {
   "cell_type": "code",
   "execution_count": 3,
   "metadata": {},
   "outputs": [],
   "source": [
    "def weighted_quantile(values, quantiles, weight=None):\n",
    "    \"\"\"\n",
    "    Calculate the weighted quantile\n",
    "    \"\"\"\n",
    "    values = np.array(values)\n",
    "    quantiles = np.array(quantiles)\n",
    "    if weight is None:\n",
    "        weight = np.ones(len(values))\n",
    "    weight = np.array(weight)\n",
    "    sorter = np.argsort(values)\n",
    "    values = values[sorter]\n",
    "    weight = weight[sorter]\n",
    "    weighted_quantiles = np.cumsum(weight) - 0.5 * weight\n",
    "    weighted_quantiles /= np.sum(weight)\n",
    "    return np.interp(quantiles, weighted_quantiles, values)\n"
   ]
  },
  {
   "cell_type": "code",
   "execution_count": 4,
   "metadata": {},
   "outputs": [],
   "source": [
    "def get_mean_dev_each_image(pi, weight, dim=10):\n",
    "    dev = 0\n",
    "    for k in range(dim):\n",
    "        p_tmp = pi[k::dim]\n",
    "        dev_tmp = -2*np.log(p_tmp)*p_tmp\n",
    "        dev_tmp[p_tmp==0] =0\n",
    "        dev += dev_tmp\n",
    "    # print(\"dev shape:\", dev.shape)\n",
    "    mm = np.average(dev, weights=weight)\n",
    "    return mm\n",
    "\n",
    "def get_quantile_dev_each_image(pi, y, weight, quant=0.85, dim=10):\n",
    "    dev = 0\n",
    "    for k in range(dim):\n",
    "        p_tmp = pi[k::dim]\n",
    "        dev_tmp = -2*np.log(p_tmp)*p_tmp\n",
    "        dev += dev_tmp\n",
    "    # print(\"dev shape:\", dev.shape)\n",
    "    mm = weighted_quantile(dev, quant, weight=equal_weight)\n",
    "    return mm"
   ]
  },
  {
   "cell_type": "code",
   "execution_count": null,
   "metadata": {},
   "outputs": [],
   "source": []
  },
  {
   "cell_type": "code",
   "execution_count": 48,
   "metadata": {},
   "outputs": [],
   "source": [
    "# BKD, mix weighted\n",
    "Y_pred = np.argmax(MLE_mix_weighted, axis=1)"
   ]
  },
  {
   "cell_type": "code",
   "execution_count": 49,
   "metadata": {},
   "outputs": [],
   "source": [
    "mean_dev_each = []\n",
    "for i in range(p_all_mix_weighted.shape[0]):\n",
    "    rr = get_mean_dev_each_image(p_all_mix_weighted[i,:], weight=equal_weight)\n",
    "    mean_dev_each.append(rr)"
   ]
  },
  {
   "cell_type": "code",
   "execution_count": 50,
   "metadata": {},
   "outputs": [],
   "source": [
    "mean_dev_each = np.array(mean_dev_each)\n",
    "np.save(\"./result_pred_deviance_infer/mean_dev_each_mix_weighted.npy\", mean_dev_each)"
   ]
  },
  {
   "cell_type": "code",
   "execution_count": 5,
   "metadata": {},
   "outputs": [],
   "source": [
    "mean_dev_each = np.load(\"./result_pred_deviance_infer/mean_dev_each_mix_weighted.npy\")"
   ]
  },
  {
   "cell_type": "code",
   "execution_count": 51,
   "metadata": {},
   "outputs": [
    {
     "data": {
      "image/png": "[encoded data removed]",
      "text/plain": [
       "<Figure size 600x400 with 1 Axes>"
      ]
     },
     "metadata": {},
     "output_type": "display_data"
    }
   ],
   "source": [
    "fig = plt.figure(figsize=(6, 4), facecolor='white')\n",
    "plt.boxplot(mean_dev_each)\n",
    "plt.show()"
   ]
  },
  {
   "cell_type": "code",
   "execution_count": 60,
   "metadata": {},
   "outputs": [],
   "source": [
    "mean_dev_each_Mul = []\n",
    "for i in range(p_all_mix_weighted_Mul.shape[0]):\n",
    "    rr = get_mean_dev_each_image(p_all_mix_weighted_Mul[i,:], weight=equal_weight_Mul)\n",
    "    mean_dev_each_Mul.append(rr)\n",
    "    \n",
    "mean_dev_each_Mul = np.array(mean_dev_each_Mul)\n",
    "np.save(\"./result_pred_deviance_infer/mean_dev_each_mix_weighted_Mul.npy\", mean_dev_each_Mul)"
   ]
  },
  {
   "cell_type": "code",
   "execution_count": 62,
   "metadata": {},
   "outputs": [
    {
     "data": {
      "image/png": "[encoded data removed]",
      "text/plain": [
       "<Figure size 600x400 with 1 Axes>"
      ]
     },
     "metadata": {},
     "output_type": "display_data"
    }
   ],
   "source": [
    "fig = plt.figure(figsize=(6, 4), facecolor='white')\n",
    "plt.boxplot([mean_dev_each,mean_dev_each_Mul], labels=['Single', 'Mul'])\n",
    "plt.show()"
   ]
  },
  {
   "cell_type": "code",
   "execution_count": 6,
   "metadata": {},
   "outputs": [],
   "source": [
    "mean_dev_each_Mul = np.load(\"./result_pred_deviance_infer/mean_dev_each_mix_weighted_Mul.npy\")"
   ]
  },
  {
   "cell_type": "code",
   "execution_count": null,
   "metadata": {},
   "outputs": [],
   "source": []
  },
  {
   "cell_type": "code",
   "execution_count": 45,
   "metadata": {},
   "outputs": [
    {
     "data": {
      "image/png": "[encoded data removed]",
      "text/plain": [
       "<Figure size 400x500 with 1 Axes>"
      ]
     },
     "metadata": {},
     "output_type": "display_data"
    }
   ],
   "source": [
    "dat_bxplot = [np.log(mean_dev_each), np.log(mean_dev_each_Mul)]\n",
    "dat_bxplot_filtered = [np.array([v for v in group if v >= -10]) for group in dat_bxplot]\n",
    "\n",
    "# Define properties for boxplot components with wider lines\n",
    "boxprops = dict(linestyle='-', linewidth=2)\n",
    "whiskerprops = dict(linestyle='-', linewidth=2)\n",
    "capprops = dict(linewidth=2)\n",
    "medianprops = dict(linestyle='-', linewidth=2)\n",
    "\n",
    "fig = plt.figure(figsize=(4, 5), facecolor='white')\n",
    "bp = plt.boxplot(dat_bxplot_filtered, \n",
    "            boxprops=boxprops, \n",
    "            whiskerprops=whiskerprops, \n",
    "            capprops=capprops, \n",
    "            medianprops=medianprops,\n",
    "            patch_artist=True,\n",
    "            showfliers=False,\n",
    "            widths=0.6,\n",
    "            labels=['Single-Label', 'Multi-Label'])\n",
    "bp['boxes'][0].set_facecolor((0.35, 0.35, 0.85))\n",
    "bp['boxes'][1].set_facecolor((0.15, 0.65, 0.35))\n",
    "\n",
    "plt.ylabel('log mean deviance')\n",
    "plt.show()"
   ]
  },
  {
   "cell_type": "code",
   "execution_count": null,
   "metadata": {},
   "outputs": [],
   "source": []
  },
  {
   "cell_type": "markdown",
   "metadata": {},
   "source": [
    "##### each class"
   ]
  },
  {
   "cell_type": "code",
   "execution_count": 47,
   "metadata": {},
   "outputs": [],
   "source": [
    "dat_bxplot = [np.log(mean_dev_each)]\n",
    "for i in range(10):\n",
    "    label_to_find = i\n",
    "    indices_with_label = [index for index, label in enumerate(labels) if label == label_to_find]\n",
    "    mean_dev_label = np.log(np.array(mean_dev_each))[indices_with_label]\n",
    "    dat_bxplot.append(mean_dev_label)"
   ]
  },
  {
   "cell_type": "code",
   "execution_count": 49,
   "metadata": {},
   "outputs": [],
   "source": [
    "x_labels = ['all'] + df_test.columns[4:14].values.tolist()"
   ]
  },
  {
   "cell_type": "code",
   "execution_count": 33,
   "metadata": {},
   "outputs": [
    {
     "data": {
      "text/plain": [
       "['all',\n",
       " 'Cytoplasm',\n",
       " 'Nucleus',\n",
       " 'Extracellular',\n",
       " 'Cell membrane',\n",
       " 'Mitochondrion',\n",
       " 'Plastid',\n",
       " 'Endoplasmic reticulum',\n",
       " 'Lysosome/Vacuole',\n",
       " 'Golgi apparatus',\n",
       " 'Peroxisome']"
      ]
     },
     "execution_count": 33,
     "metadata": {},
     "output_type": "execute_result"
    }
   ],
   "source": [
    "x_labels"
   ]
  },
  {
   "cell_type": "code",
   "execution_count": 55,
   "metadata": {},
   "outputs": [
    {
     "data": {
      "image/png": "[encoded data removed]",
      "text/plain": [
       "<Figure size 800x500 with 1 Axes>"
      ]
     },
     "metadata": {},
     "output_type": "display_data"
    }
   ],
   "source": [
    "dat_bxplot_filtered = [np.array([v for v in group if v >= -10]) for group in dat_bxplot[1:]]\n",
    "\n",
    "other_groups = dat_bxplot_filtered[0:]\n",
    "\n",
    "medians = [np.median(group) for group in other_groups]\n",
    "\n",
    "sorted_indices = np.argsort(medians)\n",
    "sorted_groups = [other_groups[i] for i in sorted_indices]\n",
    "sorted_labels = [x_labels[i + 1] for i in sorted_indices]  # Offset by 1 to skip \"all\"\n",
    "\n",
    "dat_bxplot_ordered = sorted_groups\n",
    "x_labels_ordered = sorted_labels\n",
    "\n",
    "#\n",
    "boxprops = dict(linestyle='-', linewidth=2)\n",
    "whiskerprops = dict(linestyle='-', linewidth=2)\n",
    "capprops = dict(linewidth=2)\n",
    "medianprops = dict(linestyle='-', linewidth=2)\n",
    "\n",
    "# Create the plot\n",
    "fig = plt.figure(figsize=(8, 5), facecolor='white')\n",
    "bp = plt.boxplot(\n",
    "    dat_bxplot_ordered, \n",
    "    boxprops=boxprops, \n",
    "    whiskerprops=whiskerprops, \n",
    "    capprops=capprops, \n",
    "    medianprops=medianprops,\n",
    "    patch_artist=True,\n",
    "    showfliers=False,\n",
    "    widths=0.6\n",
    ")\n",
    "\n",
    "\n",
    "light_color = '#e0e0e0'\n",
    "for box in bp['boxes'][0:]:\n",
    "    box.set_facecolor(light_color)  \n",
    "\n",
    "plt.ylabel('log mean deviance')\n",
    "plt.xticks(np.arange(1, len(x_labels_ordered)+1 ), x_labels_ordered, rotation=25, ha='right', fontsize=10)\n",
    "\n",
    "plt.tight_layout()\n",
    "plt.show()\n"
   ]
  },
  {
   "cell_type": "code",
   "execution_count": null,
   "metadata": {},
   "outputs": [],
   "source": []
  }
 ],
 "metadata": {
  "kernelspec": {
   "display_name": "BKD",
   "language": "python",
   "name": "python3"
  },
  "language_info": {
   "codemirror_mode": {
    "name": "ipython",
    "version": 3
   },
   "file_extension": ".py",
   "mimetype": "text/x-python",
   "name": "python",
   "nbconvert_exporter": "python",
   "pygments_lexer": "ipython3",
   "version": "3.7.13"
  }
 },
 "nbformat": 4,
 "nbformat_minor": 2
}
